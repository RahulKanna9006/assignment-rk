{
 "cells": [
  {
   "cell_type": "code",
   "execution_count": 7,
   "metadata": {
    "colab": {},
    "colab_type": "code",
    "id": "F-6bE0dYcBgA"
   },
   "outputs": [],
   "source": [
    "## Import stuff\n",
    " \n",
    "import numpy as np\n",
    "from sklearn import datasets, linear_model, metrics"
   ]
  },
  {
   "cell_type": "code",
   "execution_count": 8,
   "metadata": {
    "colab": {},
    "colab_type": "code",
    "id": "gK71NIhMcEs5"
   },
   "outputs": [],
   "source": [
    "## Load the diabetes dataset\n",
    "diabetes = datasets.load_diabetes()\n",
    "diabetes_X = diabetes.data # matrix of dimensions 442x10\n",
    " \n",
    "# Split the data into training/testing sets\n",
    "diabetes_X_train = diabetes_X[:-20]\n",
    "diabetes_X_test = diabetes_X[-20:]\n",
    " \n",
    "# Split the targets into training/testing sets\n",
    "diabetes_y_train = diabetes.target[:-20]\n",
    "diabetes_y_test = diabetes.target[-20:]\n",
    "\n",
    "\n",
    "diabetes_y_train=diabetes_y_train.reshape((422,1))\n",
    "diabetes_y_test=diabetes_y_test.reshape((20,1))"
   ]
  },
  {
   "cell_type": "code",
   "execution_count": 9,
   "metadata": {},
   "outputs": [
    {
     "name": "stdout",
     "output_type": "stream",
     "text": [
      "Epoch 0: 14734.323460\n",
      "Epoch 5000: 2300.781663\n",
      "Epoch 10000: 1981.676898\n",
      "Epoch 15000: 1815.670181\n",
      "Epoch 20000: 1719.390182\n",
      "Epoch 25000: 1657.449804\n",
      "Epoch 30000: 1614.214057\n",
      "Epoch 35000: 1582.321647\n",
      "Epoch 40000: 1557.984646\n",
      "Epoch 45000: 1539.038403\n",
      "Epoch 50000: 1524.113409\n",
      "Epoch 55000: 1512.269413\n",
      "Epoch 60000: 1502.823401\n",
      "Epoch 65000: 1495.261426\n",
      "Epoch 70000: 1489.188576\n",
      "Epoch 75000: 1484.297622\n",
      "Epoch 80000: 1480.347725\n",
      "Epoch 85000: 1477.149148\n",
      "Epoch 90000: 1474.551870\n",
      "Epoch 95000: 1472.436931\n"
     ]
    }
   ],
   "source": [
    "X = diabetes_X_train\n",
    "y = diabetes_y_train\n",
    " \n",
    "# train: init\n",
    "W = np.zeros((10,1))\n",
    "b = np.zeros((1))\n",
    "\n",
    "\n",
    "learning_rate = 0.01\n",
    "epochs = 100000\n",
    "loss=np.zeros((epochs))\n",
    "\n",
    "for i in range(epochs):\n",
    "    z=np.dot(X,W)+b\n",
    "    \n",
    "    error=z-y\n",
    "    mean_squared_error=0.5*np.mean(error**2)\n",
    "    grad=X.T@(error)\n",
    "    \n",
    "    W=W-(learning_rate/422)*grad\n",
    "    b=b-learning_rate*np.mean(error)\n",
    "    loss[i]=mean_squared_error\n",
    "    if i % 5000 == 0: \n",
    "        print(\"Epoch %d: %f\" % (i, mean_squared_error))\n",
    "        "
   ]
  },
  {
   "cell_type": "code",
   "execution_count": 10,
   "metadata": {
    "colab": {},
    "colab_type": "code",
    "id": "uvSdTn-0cKJL"
   },
   "outputs": [
    {
     "name": "stdout",
     "output_type": "stream",
     "text": [
      "Coefficients: \n",
      " [[  15.50868942]\n",
      " [-195.6537582 ]\n",
      " [ 480.34179358]\n",
      " [ 305.03383361]\n",
      " [ -46.34216957]\n",
      " [-104.19328599]\n",
      " [-210.00856022]\n",
      " [ 132.20167143]\n",
      " [ 397.98735492]\n",
      " [ 125.06154921]]\n",
      "Mean squared error: 1470.71\n",
      "========================================================================================================================\n"
     ]
    }
   ],
   "source": [
    "# test\n",
    "X = diabetes_X_test\n",
    "y = diabetes_y_test\n",
    "(m,n)=X.shape\n",
    "y=y.reshape(m,1)\n",
    "\n",
    " \n",
    "# calculate predictions + calculate error and cost (same code as above)\n",
    "y_pred=np.dot(X,W)+b\n",
    "cost=(y_pred-y)**2\n",
    "cost=(1/2*m)*np.sum(cost)\n",
    "\n",
    "print('Coefficients: \\n', W)\n",
    "print(\"Mean squared error: %.2f\" % mean_squared_error)\n",
    "print(\"=\"*120)"
   ]
  },
  {
   "cell_type": "code",
   "execution_count": null,
   "metadata": {
    "colab": {},
    "colab_type": "code",
    "id": "XJTg22ybcHsl"
   },
   "outputs": [],
   "source": []
  },
  {
   "cell_type": "code",
   "execution_count": null,
   "metadata": {},
   "outputs": [],
   "source": [
    "\n",
    "    "
   ]
  },
  {
   "cell_type": "code",
   "execution_count": null,
   "metadata": {},
   "outputs": [],
   "source": []
  },
  {
   "cell_type": "code",
   "execution_count": null,
   "metadata": {},
   "outputs": [],
   "source": []
  }
 ],
 "metadata": {
  "colab": {
   "name": "week1assignment.ipynb",
   "provenance": []
  },
  "kernelspec": {
   "display_name": "Python 3",
   "language": "python",
   "name": "python3"
  },
  "language_info": {
   "codemirror_mode": {
    "name": "ipython",
    "version": 3
   },
   "file_extension": ".py",
   "mimetype": "text/x-python",
   "name": "python",
   "nbconvert_exporter": "python",
   "pygments_lexer": "ipython3",
   "version": "3.7.6"
  }
 },
 "nbformat": 4,
 "nbformat_minor": 1
}
